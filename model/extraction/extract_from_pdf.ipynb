{
 "cells": [
  {
   "cell_type": "code",
   "execution_count": 1,
   "metadata": {},
   "outputs": [],
   "source": [
    "import sys\n",
    "import os\n",
    "import shutil\n",
    "sys.path.append('C://Repos/AHAKLWE')\n",
    "from extract import extract \n",
    "import pandas as pd"
   ]
  },
  {
   "cell_type": "code",
   "execution_count": 19,
   "metadata": {},
   "outputs": [
    {
     "name": "stdout",
     "output_type": "stream",
     "text": [
      "page dims for camelot:  (595.3200073242188, 841.9199829101562)\n",
      "------ Function extract_table  Took 0.6833 seconds ----------\n",
      "------ Function extract  Took 1.0397 seconds ----------\n"
     ]
    }
   ],
   "source": [
    "file_path = './IMA 2023 ACR signing version.pdf'\n",
    "df = extract(file_path, tag_tables = True) \n",
    "#mask = (df.tag != \"p\")\n",
    "#df['label'] = None\n",
    "#df.loc[mask,'label']= 0\n",
    "# df.to_csv('advocard_main.csv')"
   ]
  },
  {
   "cell_type": "code",
   "execution_count": 29,
   "metadata": {},
   "outputs": [],
   "source": [
    "import fitz\n",
    "doc = fitz.open(file_path)"
   ]
  },
  {
   "cell_type": "code",
   "execution_count": 55,
   "metadata": {},
   "outputs": [
    {
     "name": "stdout",
     "output_type": "stream",
     "text": [
      "�\n",
      "�\n",
      "�\n",
      "�\n",
      "�\n",
      "�\n",
      "�\n",
      "��O����������F�G�����������������������������\n",
      ")#��'����������������;��� 8��#��(��4��8����������/�������������������������������� ����� ���\"��E��#�4���������������4�����\n",
      " 8���������������������?����#��������#��7��/�����?����������#����#�����������������������������������4��������=�������#��\n",
      "������4�������4����������\n",
      "�\n",
      "6�������3�2�������&�����01��������������������������  �������������������\n",
      "����������\n",
      "&�����0�\n",
      "&�����0��  �����\n",
      "&���������\n",
      "&�����0�\n",
      "�0���\n",
      "&���� ���� ��������  ������\n",
      "��\n",
      "��\n",
      "��\n",
      "��\n",
      "��\n",
      "��\n",
      ".U'9:0(',9�\n",
      "'9:*B�9���'':�\n",
      "����������9�\n",
      "*B���E(��E:�52�\n",
      "��\n",
      "9E����������������$$$��\n",
      ".U'9:0(',9�\n",
      "'9:*B�9���'':�\n",
      "����������E�\n",
      "*B���E(��E:�52�\n",
      "��\n",
      "9E����������������$$$��\n",
      ".U'9:0(',9�\n",
      "'9:E.&9���'':�\n",
      "E.&9���'':�\n",
      "),E�0,�\n",
      "��\n",
      "9E����������������$$$��\n",
      ".U'9:0(',9�\n",
      "'9:0(A',E��\n",
      "'9:0(A',E��\n",
      "',E��&3*�(,�3Q�\n",
      ".��CE,�\n",
      "9E����������������$$$��\n",
      ".U'9:0(',9�\n",
      "'9:0(AN)(&,�\n",
      "'9:0(AN)(&,�\n",
      "N)(�&,0C��\n",
      ".��CE,�\n",
      "9E����������������$$$��\n",
      "�\n",
      "����������8)�\"�&������� �����C������*�.����������F9AG��-�+P�-**�\n",
      "�\n",
      "�\n",
      "6�������3�&��!��  ������\n",
      "����������\n",
      "�=�5�P��  ������������\n",
      "&���\n",
      "�� 0�\n",
      "&���������\n",
      "��\n",
      "��\n",
      "��\n",
      "��\n",
      ".U'9:0(',9�\n",
      "9E����������������$$$��\n",
      "EC,�\n",
      "*����5,'��\n",
      ".U'9:0(',9�\n",
      "9E������������������$��\n",
      "922�\n",
      "*����5,'��\n",
      ".U'9:0(',9�\n",
      "9E$��������������������\n",
      "C�9�\n",
      "*����5,'��\n",
      "�\n",
      "\n"
     ]
    }
   ],
   "source": [
    "print(doc[25].get_text().encode('utf-8').decode())\n"
   ]
  },
  {
   "attachments": {},
   "cell_type": "markdown",
   "metadata": {},
   "source": [
    "# OCR on pdf. \n",
    "\n",
    "Install tesseract engine (CLI by google). For windows: download from: https://github.com/UB-Mannheim/tesseract/wiki and run\n",
    "For Ubuntu (on the VM later): sudo apt-get install tesseract-ocr\n",
    "\n",
    "Selected Additional Language support for danish and German - might need more \n",
    "\n",
    "Add to Path (environment variables)\n",
    "Restart PC\n",
    "\n",
    "pip install ocrmypdf\n",
    "pip install pytesseract\n",
    "pip install opencv-python\n",
    "pip install pdf2image\n",
    "\n",
    "C:\\Users\\KLWE\\AppData\\Local\\Programs\\Tesseract-OCR"
   ]
  },
  {
   "cell_type": "code",
   "execution_count": 46,
   "metadata": {},
   "outputs": [],
   "source": [
    "# import libs\n",
    "try:\n",
    "    from PIL import Image\n",
    "except ImportError:\n",
    "    import Image\n",
    "import cv2\n",
    "import pytesseract\n",
    "import os\n",
    "import numpy as np\n",
    "import pandas as pd\n",
    "import re\n",
    "from pdf2image import convert_from_bytes"
   ]
  },
  {
   "cell_type": "code",
   "execution_count": 47,
   "metadata": {},
   "outputs": [],
   "source": [
    "file_path = './IMA 2023 ACR signing version.pdf'"
   ]
  },
  {
   "cell_type": "code",
   "execution_count": 77,
   "metadata": {},
   "outputs": [],
   "source": [
    "\n",
    "# Some help functions \n",
    "def get_conf(page_gray):\n",
    "    '''return a average confidence value of OCR result '''\n",
    "    df = pytesseract.image_to_data(page_gray,output_type='data.frame')\n",
    "    df.drop(df[df.conf==-1].index.values,inplace=True)\n",
    "    df.reset_index()\n",
    "    return df.conf.mean()\n",
    "  \n",
    "def deskew(image):\n",
    "    '''deskew the image'''\n",
    "    gray = cv2.bitwise_not(image)\n",
    "    temp_arr = cv2.threshold(gray, 0, 255, cv2.THRESH_BINARY + cv2.THRESH_OTSU)[1]\n",
    "    coords = np.column_stack(np.where(temp_arr > 0))\n",
    "    angle = cv2.minAreaRect(coords)[-1]\n",
    "    if angle < -45:\n",
    "        angle = -(90 + angle)\n",
    "    else:\n",
    "        angle = -angle\n",
    "    (h, w) = image.shape[:2]\n",
    "    center = (w // 2, h // 2)\n",
    "    M = cv2.getRotationMatrix2D(center, angle, 1.0)\n",
    "    rotated = cv2.warpAffine(image, M, (w, h), flags=cv2.INTER_CUBIC, borderMode=cv2.BORDER_REPLICATE)\n",
    "    return rotated\n",
    "  \n",
    "'''\n",
    "Main part of OCR:\n",
    "pages_df: save eextracted text for each pdf file, index by page\n",
    "OCR_dic : dict for saving df of each pdf, filename is the key\n",
    "'''\n",
    "\n",
    "\n",
    "\n",
    "\n",
    "# convert pdf into image\n",
    "pdf_file = convert_from_bytes(open(file_path, 'rb').read())\n",
    "# create a df to save each pdf's text\n",
    "texts = []\n",
    "PAGE_NUM = 30\n",
    "for (i,page) in enumerate(pdf_file) :\n",
    "    if i == PAGE_NUM:\n",
    "        try:\n",
    "            # transfer image of pdf_file into array\n",
    "            page_arr = np.asarray(page)\n",
    "            # transfer into grayscale\n",
    "            page_arr_gray = cv2.cvtColor(page_arr,cv2.COLOR_BGR2GRAY)\n",
    "            # deskew the page\n",
    "            page_deskew = deskew(page_arr_gray)\n",
    "            # cal confidence value\n",
    "            page_conf = get_conf(page_deskew)\n",
    "            # extract string \n",
    "            texts.append(pytesseract.image_to_data(page_deskew, lang = \"eng+ger\", output_type=pytesseract.Output.DATAFRAME))\n",
    "            # pages_df = pd.concat([pages_df, pd.DataFrame({'conf': page_conf,'text': pytesseract.image_to_string(page_deskew)})]) #(pages_df.append({'conf': page_conf,'text': pytesseract.image_to_string(page_deskew)}, ignore_index=True)\n",
    "        except:\n",
    "            # if can't extract then give some notes into df\n",
    "            texts.append('N/A')\n",
    "            #¤pages_df = pd.concat([pages_df, pd.DataFrame({'conf': -1 ,'text':'N/A'})]) #pages_df.append({'conf': -1,'text': 'N/A'}, ignore_index=True)\n",
    "            continue\n",
    "    # save df into a dict with filename as key        "
   ]
  },
  {
   "attachments": {},
   "cell_type": "markdown",
   "metadata": {},
   "source": [
    "Output format: \n",
    "\n",
    "* level: hierarchical layout (a word is in a line, which is in a paragraph, which is in a block, which is in a page), a value from 1 to 5\n",
    "1: page\n",
    "2: block\n",
    "3: paragraph\n",
    "4: line\n",
    "5: word\n",
    "* page_num: when provided with a list of images, indicates the number of the file, when provided with a multi-pages document, indicates the page number, starting from 1\n",
    "* block_num: block number within the page, starting from 0\n",
    "* par_num: paragraph number within the block, starting from 0\n",
    "* line_num: line number within the paragraph, starting from 0\n",
    "* word_num: word number within the line, starting from 0\n",
    "* left: x coordinate in pixels of the text bounding box top left corner, starting from the left of the image\n",
    "* top: y coordinate in pixels of the text bounding box top left corner, starting from the top of the image\n",
    "* width: width of the text bounding box in pixels\n",
    "* height: height of the text bounding box in pixels\n",
    "* conf: confidence value, from 0 (no confidence) to 100 (maximum confidence), -1 for all level except 5\n",
    "* text: detected text, empty for all levels except 5"
   ]
  },
  {
   "cell_type": "code",
   "execution_count": 78,
   "metadata": {},
   "outputs": [],
   "source": [
    "df = texts[0]"
   ]
  },
  {
   "cell_type": "code",
   "execution_count": 79,
   "metadata": {},
   "outputs": [
    {
     "data": {
      "text/plain": [
       "Index(['level', 'page_num', 'block_num', 'par_num', 'line_num', 'word_num',\n",
       "       'left', 'top', 'width', 'height', 'conf', 'text'],\n",
       "      dtype='object')"
      ]
     },
     "execution_count": 79,
     "metadata": {},
     "output_type": "execute_result"
    }
   ],
   "source": [
    "df.columns"
   ]
  },
  {
   "cell_type": "code",
   "execution_count": 80,
   "metadata": {},
   "outputs": [],
   "source": [
    "line_text = df[df.level == 5].groupby(['block_num','line_num']).agg({'text': lambda x:' '.join(x)}).reset_index()\n",
    "line_pos = df[df.level == 4][['block_num', 'line_num', 'left','top', 'width','height']]"
   ]
  },
  {
   "cell_type": "code",
   "execution_count": 81,
   "metadata": {},
   "outputs": [],
   "source": [
    "df = pd.merge(line_pos, line_text,  how='left', on=['block_num','line_num'])"
   ]
  },
  {
   "cell_type": "code",
   "execution_count": 82,
   "metadata": {},
   "outputs": [],
   "source": [
    "import fitz\n",
    "doc = fitz.open(file_path)\n",
    "PAGE_WIDTH, PAGE_HEIGHT = doc[29].rect.width, doc[29].rect.height\n",
    "IMG_HEIGHT, IMG_WIDTH = page_deskew.shape"
   ]
  },
  {
   "cell_type": "code",
   "execution_count": 106,
   "metadata": {},
   "outputs": [],
   "source": [
    "df = df.assign(\n",
    "    ymin = df.top / IMG_WIDTH * PAGE_WIDTH,\n",
    "    ymax = (df.top+ df.height) / IMG_WIDTH * PAGE_WIDTH,\n",
    "    xmax = (((df.left + df.width) / IMG_HEIGHT)) * PAGE_HEIGHT,\n",
    "    xmin = (((df.left) / IMG_HEIGHT)) * PAGE_HEIGHT\n",
    ")\n",
    "df = df.assign(\n",
    "    is_upper = df.text.apply(lambda x: re.sub(\"[\\(\\[].*?[\\)\\]]\", \"\", x).isupper()),\n",
    "    is_bold = 'N/A',\n",
    "    span_font = 'N/A',\n",
    "    font_size = df.height,\n",
    "    page_num = PAGE_NUM, \n",
    "    tag = None, \n",
    "    label = None\n",
    ")[['xmin','ymin','xmax','ymax','text','is_upper','is_bold','span_font','font_size','page_num','block_num','tag','label']]\n"
   ]
  },
  {
   "cell_type": "code",
   "execution_count": 108,
   "metadata": {},
   "outputs": [],
   "source": [
    "def add_tag(x, pr_5, pr_95, font_dict, page_height, page_width):\n",
    "    if x.font_size > pr_95: \n",
    "        tag = 'h'\n",
    "    elif (x.font_size < pr_5) \\\n",
    "            or (re.search(r'\\bpage\\s+\\d*.*\\d\\b', x.text.lower())) \\\n",
    "            or ((x.ymin > 0.95*page_height) and (x.xmin > 0.7*page_width)) \\\n",
    "            or ((x.ymin > 0.95*page_height) and (x.xmin > 0.7*page_width)): \n",
    "        tag = 'f'\n",
    "    elif (font_dict[x.span_font] < 0.01):  # speacial font - occurs only in one % \n",
    "        tag = 's'\n",
    "    else: \n",
    "        tag = 'p'\n",
    "\n",
    "    return(tag)"
   ]
  },
  {
   "cell_type": "code",
   "execution_count": 109,
   "metadata": {},
   "outputs": [],
   "source": [
    "pr_5 = np.percentile(df.font_size, 5)\n",
    "pr_95 = np.percentile(df.font_size, 95)\n",
    "font_dict = (df.groupby('span_font').count()['text']/len(df)).to_dict()\n",
    "df['tag'] = df.apply(\n",
    "        lambda x: add_tag(x, pr_5, pr_95, font_dict, page_height=PAGE_HEIGHT, page_width=PAGE_WIDTH) , axis = 1\n",
    "    )"
   ]
  },
  {
   "cell_type": "code",
   "execution_count": 86,
   "metadata": {},
   "outputs": [],
   "source": [
    "from fitz import Rect\n",
    "\n",
    "def coords_to_rect(xmin, ymin, xmax, ymax):\n",
    "    quad = (xmin, ymin, xmax, ymax)\n",
    "    return Rect(quad)\n",
    "\n",
    "def highlight_area(rect: Rect, page_no: int, pdf_path: str, *args, **kwargs):\n",
    "    doc = fitz.open(pdf_path)\n",
    "    doc[page_no].add_highlight_annot(rect)\n",
    "    if kwargs['output_file']:\n",
    "        doc.save(kwargs['output_file'])\n",
    "    else: \n",
    "        doc.save(pdf_path)\n",
    "    doc.close()   "
   ]
  },
  {
   "cell_type": "code",
   "execution_count": 99,
   "metadata": {},
   "outputs": [],
   "source": [
    "highlight_area(coords_to_rect(df.iloc[3].xmin, df.iloc[3].ymin, df.iloc[3].xmax, df.iloc[3].ymax), page_no = 30, pdf_path=file_path, output_file = 'test.pdf')"
   ]
  },
  {
   "cell_type": "code",
   "execution_count": 1,
   "metadata": {},
   "outputs": [],
   "source": [
    "import pandas as pd\n",
    "df = pd.read_csv('wien_main_update.csv', index_col = 0)\n",
    "df.assign(label = None).to_csv('wien_main_update.csv')"
   ]
  }
 ],
 "metadata": {
  "kernelspec": {
   "display_name": "pdfextract",
   "language": "python",
   "name": "python3"
  },
  "language_info": {
   "codemirror_mode": {
    "name": "ipython",
    "version": 3
   },
   "file_extension": ".py",
   "mimetype": "text/x-python",
   "name": "python",
   "nbconvert_exporter": "python",
   "pygments_lexer": "ipython3",
   "version": "3.11.3"
  },
  "orig_nbformat": 4
 },
 "nbformat": 4,
 "nbformat_minor": 2
}
