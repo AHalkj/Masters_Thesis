{
 "cells": [
  {
   "cell_type": "code",
   "execution_count": 1,
   "metadata": {},
   "outputs": [
    {
     "name": "stderr",
     "output_type": "stream",
     "text": [
      "c:\\Users\\KLWE\\AppData\\Local\\anaconda3\\envs\\pdfextract\\Lib\\site-packages\\tqdm\\auto.py:21: TqdmWarning: IProgress not found. Please update jupyter and ipywidgets. See https://ipywidgets.readthedocs.io/en/stable/user_install.html\n",
      "  from .autonotebook import tqdm as notebook_tqdm\n"
     ]
    }
   ],
   "source": [
    "from docx2pdf import convert"
   ]
  },
  {
   "cell_type": "code",
   "execution_count": 2,
   "metadata": {},
   "outputs": [
    {
     "name": "stderr",
     "output_type": "stream",
     "text": [
      "100%|██████████| 1/1 [01:52<00:00, 112.72s/it]\n"
     ]
    }
   ],
   "source": [
    "filepath = 'GIP PRIVATE DEBT FUND OF FUNDS III FCP-RAIF - Issuing Document - July 2022.docx'\n",
    "convert(filepath, filepath.replace('.docx', '.pdf'))"
   ]
  },
  {
   "cell_type": "code",
   "execution_count": 4,
   "metadata": {},
   "outputs": [],
   "source": [
    "import sys\n",
    "sys.path.append('C:\\Repos\\AHAKLWE')\n",
    "from extract import extract"
   ]
  },
  {
   "cell_type": "code",
   "execution_count": 6,
   "metadata": {},
   "outputs": [
    {
     "name": "stdout",
     "output_type": "stream",
     "text": [
      "###### Extracting Tables with Camelot #########\n",
      "page dims for camelot:  (595.4400024414062, 841.6799926757812)\n",
      "------ Function extract_table  Took 2.1404 seconds ----------\n",
      "------ Function extract  Took 4.6469 seconds ----------\n"
     ]
    }
   ],
   "source": [
    "df = extract(filepath.replace('.docx', '.pdf'), tag_tables = True, OCR = False)"
   ]
  },
  {
   "cell_type": "code",
   "execution_count": 15,
   "metadata": {},
   "outputs": [],
   "source": [
    "df.assign(label = None).to_csv('gv_wien.csv')"
   ]
  }
 ],
 "metadata": {
  "kernelspec": {
   "display_name": "pdfextract",
   "language": "python",
   "name": "python3"
  },
  "language_info": {
   "codemirror_mode": {
    "name": "ipython",
    "version": 3
   },
   "file_extension": ".py",
   "mimetype": "text/x-python",
   "name": "python",
   "nbconvert_exporter": "python",
   "pygments_lexer": "ipython3",
   "version": "3.11.3"
  },
  "orig_nbformat": 4
 },
 "nbformat": 4,
 "nbformat_minor": 2
}
