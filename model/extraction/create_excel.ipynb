{
 "cells": [
  {
   "cell_type": "code",
   "execution_count": 12,
   "metadata": {},
   "outputs": [],
   "source": [
    "import xlsxwriter\n",
    "import datetime"
   ]
  },
  {
   "cell_type": "code",
   "execution_count": 13,
   "metadata": {},
   "outputs": [],
   "source": [
    "date = datetime.datetime.today().strftime('%Y-%m-%d')\n",
    "workbook = xlsxwriter.Workbook(f'ir_{date}.xlsx')\n",
    "worksheet = workbook.add_worksheet()\n",
    "formating = {'bold': True, 'font_name': 'Arial', 'font_size': 8, 'text_wrap': True, 'border': True}\n",
    "\n",
    "headers = [(\"DATE\", \"#fcba03\"), (\"CLIENT COMPANY\", \"#fcba03\"), (\"COUNTRY\", \"#fcba03\"), (\"CLASS OF MANDATE\", \"#fcba03\"), (\"SECTION / ARTICLE\", \"#fcba03\"), (\"QUALITATIVE LIMIT DESCRIPTION (english)\", \"#fcba03\"), \n",
    "           (\"QUALITATIVE LIMIT DESCRIPTION (OV)\", \"#fcba03\"), (\"DENOMINATOR\", \"#fcba03\"), (\"FURTHER INFORMATION\", \"#fcba03\"), (\"IC COMMENT\", \"#D9D9D9\"), (\"RULE SCOPE\", \"#00B0F0\"), (\"ASSIGNMENT UNIT\", \"#00B0F0\"), \n",
    "            (\"SCD ID\", \"#00B0F0\"), (\"RULE ID\", \"#92D050\"), (\"LIMIT NAME\", \"#92D050\"), (\"RULE NOT IMPLEMENTABLE in SCD\", \"#D9D9D9\"), (\"RULE TYPE\", \"#D9D9D9\"), (\"FAIL BELOW (numeric)\", \"#00B0F0\"), (\"TARGET  (numeric)\", \"#D9D9D9\"),\n",
    "               (\"FAIL ABOVE  (numeric)\", \"#00B0F0\"), (\"WARN BELOW  (numeric)\", \"#00B0F0\"), (\"WARN ABOVE (numeric)\", \"#00B0F0\"), (\"OTHER BOUNDARIES\", \"#D9D9D9\"), (\"OTHER BOUNDARIES\", \"#00B0F0\"), (\"Executed by the robot\", \"#92D050\")   ]\n",
    "formats = [workbook.add_format() for i, _ in enumerate(headers)]"
   ]
  },
  {
   "cell_type": "code",
   "execution_count": 14,
   "metadata": {},
   "outputs": [],
   "source": [
    "for i, (cell, color) in enumerate(headers):\n",
    "    formating['bg_color'] = color\n",
    "    formats[i] =  workbook.add_format(formating)\n",
    "    worksheet.write(0, i, cell, formats[i])\n",
    "worksheet.freeze_panes(1,0)"
   ]
  },
  {
   "cell_type": "code",
   "execution_count": 15,
   "metadata": {},
   "outputs": [],
   "source": [
    "workbook.close()"
   ]
  }
 ],
 "metadata": {
  "kernelspec": {
   "display_name": "pdfextract",
   "language": "python",
   "name": "python3"
  },
  "language_info": {
   "codemirror_mode": {
    "name": "ipython",
    "version": 3
   },
   "file_extension": ".py",
   "mimetype": "text/x-python",
   "name": "python",
   "nbconvert_exporter": "python",
   "pygments_lexer": "ipython3",
   "version": "3.11.3"
  },
  "orig_nbformat": 4
 },
 "nbformat": 4,
 "nbformat_minor": 2
}
