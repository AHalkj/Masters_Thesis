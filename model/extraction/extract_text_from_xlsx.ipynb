{
 "cells": [
  {
   "cell_type": "code",
   "execution_count": 2,
   "metadata": {},
   "outputs": [],
   "source": [
    "import openpyxl as opx \n",
    "from openpyxl import load_workbook\n",
    "import pandas as pd"
   ]
  },
  {
   "cell_type": "code",
   "execution_count": 3,
   "metadata": {},
   "outputs": [
    {
     "name": "stdout",
     "output_type": "stream",
     "text": [
      "Annex 3.3.1\n"
     ]
    },
    {
     "name": "stderr",
     "output_type": "stream",
     "text": [
      "c:\\Users\\KLWE\\AppData\\Local\\anaconda3\\envs\\pdfextract\\Lib\\site-packages\\openpyxl\\reader\\drawings.py:63: UserWarning: wmf image format is not supported so the image is being dropped\n",
      "  warn(msg)\n"
     ]
    }
   ],
   "source": [
    "fileName = \"Annex 3.3.1 - Investment limits constraints Vers.xlsx\"\n",
    "workbook = load_workbook(fileName)\n",
    "sheet = workbook._sheets[0]"
   ]
  },
  {
   "cell_type": "code",
   "execution_count": 4,
   "metadata": {},
   "outputs": [
    {
     "name": "stdout",
     "output_type": "stream",
     "text": [
      "Annex 3.3.1\n"
     ]
    }
   ],
   "source": [
    "# convert to dataframe\n",
    "df = pd.read_excel(fileName, header = 5).drop(columns = ['Unnamed: 0', 'Unnamed: 1'])\n",
    "df.iloc[3:, :6] = df.iloc[3:, :6].fillna(method='ffill')\n",
    "\n",
    "df = df.rename(columns=\n",
    "     {'Unnamed: 10': 'Scope of application - Asset Class / investment',\n",
    "      'Unnamed: 11': 'Reference',\n",
    "      'Single LoBs & portfolios': 'Single LoBs & portfolios - Non-Life',\n",
    "      'Unnamed: 14': 'Single LoBs & portfolios - Life + Health',\n",
    "      'Unnamed: 15': 'Single LoBs & portfolios - Life',\n",
    "      'Unnamed: 16': 'Single LoBs & portfolios - Health'\n",
    " }\n",
    " )[3:]\n",
    "\n",
    "df[['Total Company assets ', 'Single LoBs & portfolios - Non-Life', 'Single LoBs & portfolios - Life + Health', 'Single LoBs & portfolios - Life', 'Single LoBs & portfolios - Health']]= df[['Total Company assets ', 'Single LoBs & portfolios - Non-Life', 'Single LoBs & portfolios - Life + Health', 'Single LoBs & portfolios - Life', 'Single LoBs & portfolios - Health']].replace({'ü': 1}).fillna(0)\n",
    "df[['Scope of application - Asset Class / investment', 'Reference']] = df[['Scope of application - Asset Class / investment', 'Reference']].fillna('-')\n",
    "df['label'] = None\n",
    "df.to_csv('annex3.3.1.csv')"
   ]
  },
  {
   "attachments": {},
   "cell_type": "markdown",
   "metadata": {},
   "source": [
    "To replace with marked up tool: \n",
    "\n",
    "{'Description': H\n",
    "'Qualitative': I\n",
    "'Quantitative': J\n",
    "'Scope of application - Asset Class / investment': K}\n",
    "\n",
    "Row 10 -> Row 0"
   ]
  }
 ],
 "metadata": {
  "kernelspec": {
   "display_name": "pdfextract",
   "language": "python",
   "name": "python3"
  },
  "language_info": {
   "codemirror_mode": {
    "name": "ipython",
    "version": 3
   },
   "file_extension": ".py",
   "mimetype": "text/x-python",
   "name": "python",
   "nbconvert_exporter": "python",
   "pygments_lexer": "ipython3",
   "version": "3.11.3"
  },
  "orig_nbformat": 4
 },
 "nbformat": 4,
 "nbformat_minor": 2
}
